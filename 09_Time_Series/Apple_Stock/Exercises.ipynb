{
  "cells": [
    {
      "cell_type": "markdown",
      "metadata": {
        "pycharm": {
          "name": "#%% md\n"
        },
        "id": "1wKcNhswDdkW"
      },
      "source": [
        "# Apple Stock"
      ]
    },
    {
      "cell_type": "markdown",
      "metadata": {
        "pycharm": {
          "name": "#%% md\n"
        },
        "id": "f0TcbM5qDdkY"
      },
      "source": [
        "### Introduction:\n",
        "\n",
        "We are going to use Apple's stock price.\n",
        "\n",
        "\n",
        "### Step 1. Import the necessary libraries"
      ]
    },
    {
      "cell_type": "code",
      "execution_count": 1,
      "metadata": {
        "pycharm": {
          "name": "#%%\n"
        },
        "id": "h4TipEwIDdkY"
      },
      "outputs": [],
      "source": [
        "import pandas as pd\n",
        "import matplotlib.pyplot as plt"
      ]
    },
    {
      "cell_type": "markdown",
      "metadata": {
        "pycharm": {
          "name": "#%% md\n"
        },
        "id": "A2HVDbPaDdkZ"
      },
      "source": [
        "### Step 2. Import the dataset from this [address](https://raw.githubusercontent.com/thieu1995/csv-files/main/data/pandas/appl_1980_2014.csv)"
      ]
    },
    {
      "cell_type": "code",
      "execution_count": 3,
      "metadata": {
        "collapsed": true,
        "pycharm": {
          "name": "#%%\n"
        },
        "id": "6NWNpOTkDdkZ"
      },
      "outputs": [],
      "source": [
        "url = \"https://raw.githubusercontent.com/thieu1995/csv-files/main/data/pandas/appl_1980_2014.csv\"\n",
        "apple = pd.read_csv(url)"
      ]
    },
    {
      "cell_type": "markdown",
      "metadata": {
        "pycharm": {
          "name": "#%% md\n"
        },
        "id": "2GuAFtdmDdkZ"
      },
      "source": [
        "### Step 3. Assign it to a variable apple"
      ]
    },
    {
      "cell_type": "code",
      "execution_count": 4,
      "metadata": {
        "pycharm": {
          "name": "#%%\n"
        },
        "id": "zqphDsauDdkZ",
        "outputId": "1cb1b0cd-4824-49ff-937f-6a6351c4a70c",
        "colab": {
          "base_uri": "https://localhost:8080/"
        }
      },
      "outputs": [
        {
          "output_type": "stream",
          "name": "stdout",
          "text": [
            "         Date   Open   High    Low  Close    Volume  Adj Close\n",
            "0  2014-07-08  96.27  96.80  93.92  95.35  65130000      95.35\n",
            "1  2014-07-07  94.14  95.99  94.10  95.97  56305400      95.97\n",
            "2  2014-07-03  93.67  94.10  93.20  94.03  22891800      94.03\n",
            "3  2014-07-02  93.87  94.06  93.09  93.48  28420900      93.48\n",
            "4  2014-07-01  93.52  94.07  93.13  93.52  38170200      93.52\n"
          ]
        }
      ],
      "source": [
        "print(apple.head())\n"
      ]
    },
    {
      "cell_type": "markdown",
      "metadata": {
        "pycharm": {
          "name": "#%% md\n"
        },
        "id": "hlRyEr_ODdkZ"
      },
      "source": [
        "### Step 4.  Check out the type of the columns"
      ]
    },
    {
      "cell_type": "code",
      "execution_count": 5,
      "metadata": {
        "pycharm": {
          "name": "#%%\n"
        },
        "id": "cui4anbCDdkZ",
        "outputId": "d0a0c6d2-cc41-4533-a868-e7636f9f062d",
        "colab": {
          "base_uri": "https://localhost:8080/"
        }
      },
      "outputs": [
        {
          "output_type": "stream",
          "name": "stdout",
          "text": [
            "Date          object\n",
            "Open         float64\n",
            "High         float64\n",
            "Low          float64\n",
            "Close        float64\n",
            "Volume         int64\n",
            "Adj Close    float64\n",
            "dtype: object\n"
          ]
        }
      ],
      "source": [
        "print(apple.dtypes)\n"
      ]
    },
    {
      "cell_type": "markdown",
      "metadata": {
        "pycharm": {
          "name": "#%% md\n"
        },
        "id": "j1ZDAeOmDdkZ"
      },
      "source": [
        "### Step 5. Transform the Date column as a datetime type"
      ]
    },
    {
      "cell_type": "code",
      "execution_count": 6,
      "metadata": {
        "pycharm": {
          "name": "#%%\n"
        },
        "id": "8aDiNZHzDdka"
      },
      "outputs": [],
      "source": [
        "apple['Date'] = pd.to_datetime(apple['Date'])\n"
      ]
    },
    {
      "cell_type": "markdown",
      "metadata": {
        "pycharm": {
          "name": "#%% md\n"
        },
        "id": "7Zg1LERtDdka"
      },
      "source": [
        "### Step 6.  Set the date as the index"
      ]
    },
    {
      "cell_type": "code",
      "execution_count": 7,
      "metadata": {
        "pycharm": {
          "name": "#%%\n"
        },
        "id": "rDW8YoJ-Ddka",
        "outputId": "b921c692-db30-4187-cd17-41b036c4be03",
        "colab": {
          "base_uri": "https://localhost:8080/"
        }
      },
      "outputs": [
        {
          "output_type": "stream",
          "name": "stdout",
          "text": [
            "Dataset sau khi đặt 'Date' làm index:\n",
            "              Open   High    Low  Close    Volume  Adj Close\n",
            "Date                                                       \n",
            "2014-07-08  96.27  96.80  93.92  95.35  65130000      95.35\n",
            "2014-07-07  94.14  95.99  94.10  95.97  56305400      95.97\n",
            "2014-07-03  93.67  94.10  93.20  94.03  22891800      94.03\n",
            "2014-07-02  93.87  94.06  93.09  93.48  28420900      93.48\n",
            "2014-07-01  93.52  94.07  93.13  93.52  38170200      93.52\n"
          ]
        }
      ],
      "source": [
        "apple.set_index('Date', inplace=True)\n",
        "print(\"Dataset sau khi đặt 'Date' làm index:\\n\", apple.head())"
      ]
    },
    {
      "cell_type": "markdown",
      "metadata": {
        "pycharm": {
          "name": "#%% md\n"
        },
        "id": "kYDbEu45Ddka"
      },
      "source": [
        "### Step 7.  Is there any duplicate dates?"
      ]
    },
    {
      "cell_type": "code",
      "execution_count": 8,
      "metadata": {
        "pycharm": {
          "name": "#%%\n"
        },
        "id": "E_TLE5HeDdka",
        "outputId": "aafc5068-ba86-4891-c8d3-f2e870bcb439",
        "colab": {
          "base_uri": "https://localhost:8080/"
        }
      },
      "outputs": [
        {
          "output_type": "stream",
          "name": "stdout",
          "text": [
            "Có ngày trùng lặp không? False\n"
          ]
        }
      ],
      "source": [
        "print(\"Có ngày trùng lặp không?\", apple.index.duplicated().any())\n"
      ]
    },
    {
      "cell_type": "markdown",
      "metadata": {
        "pycharm": {
          "name": "#%% md\n"
        },
        "id": "tWaaC51jDdka"
      },
      "source": [
        "### Step 8.  Ops...it seems the index is from the most recent date. Make the first entry the oldest date."
      ]
    },
    {
      "cell_type": "code",
      "execution_count": 9,
      "metadata": {
        "pycharm": {
          "name": "#%%\n"
        },
        "id": "715E9rwODdka",
        "outputId": "eccd57e2-b473-430d-a221-f42673806a6d",
        "colab": {
          "base_uri": "https://localhost:8080/"
        }
      },
      "outputs": [
        {
          "output_type": "stream",
          "name": "stdout",
          "text": [
            "Dataset sau khi sắp xếp theo ngày:\n",
            "              Open   High    Low  Close     Volume  Adj Close\n",
            "Date                                                        \n",
            "1980-12-12  28.75  28.87  28.75  28.75  117258400       0.45\n",
            "1980-12-15  27.38  27.38  27.25  27.25   43971200       0.42\n",
            "1980-12-16  25.37  25.37  25.25  25.25   26432000       0.39\n",
            "1980-12-17  25.87  26.00  25.87  25.87   21610400       0.40\n",
            "1980-12-18  26.63  26.75  26.63  26.63   18362400       0.41\n"
          ]
        }
      ],
      "source": [
        "apple.sort_index(inplace=True)\n",
        "print(\"Dataset sau khi sắp xếp theo ngày:\\n\", apple.head())"
      ]
    },
    {
      "cell_type": "markdown",
      "metadata": {
        "pycharm": {
          "name": "#%% md\n"
        },
        "id": "5XfEafNrDdka"
      },
      "source": [
        "### Step 9. Get the last business day of each month"
      ]
    },
    {
      "cell_type": "code",
      "execution_count": 10,
      "metadata": {
        "pycharm": {
          "name": "#%%\n"
        },
        "id": "lWzuVlTADdka",
        "outputId": "05f70ade-12f4-4d87-93fe-bd6aaf9477dd",
        "colab": {
          "base_uri": "https://localhost:8080/"
        }
      },
      "outputs": [
        {
          "output_type": "stream",
          "name": "stdout",
          "text": [
            "Ngày giao dịch cuối cùng của mỗi tháng:\n",
            "              Open   High    Low  Close    Volume  Adj Close\n",
            "Date                                                       \n",
            "1980-12-31  34.25  34.25  34.13  34.13   8937600       0.53\n",
            "1981-01-31  28.50  28.50  28.25  28.25  11547200       0.44\n",
            "1981-02-28  26.50  26.75  26.50  26.50   3690400       0.41\n",
            "1981-03-31  24.75  24.75  24.50  24.50   3998400       0.38\n",
            "1981-04-30  28.38  28.62  28.38  28.38   3152800       0.44\n"
          ]
        },
        {
          "output_type": "stream",
          "name": "stderr",
          "text": [
            "<ipython-input-10-5e11404aee4a>:1: FutureWarning: 'M' is deprecated and will be removed in a future version, please use 'ME' instead.\n",
            "  last_business_day = apple.resample('M').last()\n"
          ]
        }
      ],
      "source": [
        "last_business_day = apple.resample('M').last()\n",
        "print(\"Ngày giao dịch cuối cùng của mỗi tháng:\\n\", last_business_day.head())"
      ]
    },
    {
      "cell_type": "markdown",
      "metadata": {
        "pycharm": {
          "name": "#%% md\n"
        },
        "id": "YPVdTzPyDdka"
      },
      "source": [
        "### Step 10.  What is the difference in days between the first day and the oldest"
      ]
    },
    {
      "cell_type": "code",
      "execution_count": 11,
      "metadata": {
        "pycharm": {
          "name": "#%%\n"
        },
        "id": "FKvPVD5sDdka",
        "outputId": "1b1eee2c-0a8b-431f-dff2-b6f9ad709dce",
        "colab": {
          "base_uri": "https://localhost:8080/"
        }
      },
      "outputs": [
        {
          "output_type": "stream",
          "name": "stdout",
          "text": [
            "Số ngày giữa ngày đầu tiên và ngày cuối cùng: 12261 ngày\n"
          ]
        }
      ],
      "source": [
        "date_diff = (apple.index.max() - apple.index.min()).days\n",
        "print(f\"Số ngày giữa ngày đầu tiên và ngày cuối cùng: {date_diff} ngày\")"
      ]
    },
    {
      "cell_type": "markdown",
      "metadata": {
        "pycharm": {
          "name": "#%% md\n"
        },
        "id": "_7wfMF-lDdka"
      },
      "source": [
        "### Step 11.  How many months in the data we have?"
      ]
    },
    {
      "cell_type": "code",
      "execution_count": 12,
      "metadata": {
        "pycharm": {
          "name": "#%%\n"
        },
        "id": "yvJIAu3XDdkb",
        "outputId": "b149704d-bf10-4412-8ed3-fe651523ebbd",
        "colab": {
          "base_uri": "https://localhost:8080/"
        }
      },
      "outputs": [
        {
          "output_type": "stream",
          "name": "stdout",
          "text": [
            "Số tháng có trong dữ liệu: 404\n"
          ]
        },
        {
          "output_type": "stream",
          "name": "stderr",
          "text": [
            "<ipython-input-12-ac1e041d4605>:1: FutureWarning: 'M' is deprecated and will be removed in a future version, please use 'ME' instead.\n",
            "  num_months = apple.resample('M').size().shape[0]\n"
          ]
        }
      ],
      "source": [
        "num_months = apple.resample('M').size().shape[0]\n",
        "print(f\"Số tháng có trong dữ liệu: {num_months}\")"
      ]
    },
    {
      "cell_type": "markdown",
      "metadata": {
        "pycharm": {
          "name": "#%% md\n"
        },
        "id": "3Hpzge0NDdkb"
      },
      "source": [
        "### Step 12. Plot the 'Adj Close' value. Set the size of the figure to 13.5 x 9 inches"
      ]
    },
    {
      "cell_type": "code",
      "execution_count": 13,
      "metadata": {
        "pycharm": {
          "name": "#%%\n"
        },
        "id": "icr9l83PDdkb",
        "outputId": "387bb9cf-6df8-48bd-a347-7a5910148c24",
        "colab": {
          "base_uri": "https://localhost:8080/",
          "height": 797
        }
      },
      "outputs": [
        {
          "output_type": "display_data",
          "data": {
            "text/plain": [
              "<Figure size 1350x900 with 1 Axes>"
            ],
            "image/png": "[encoded data removed]"
          },
          "metadata": {}
        }
      ],
      "source": [
        "plt.figure(figsize=(13.5, 9))\n",
        "plt.plot(apple['Adj Close'], label='Adj Close Price', color='blue')\n",
        "plt.title('Biểu đồ giá điều chỉnh của Apple')\n",
        "plt.xlabel('Năm')\n",
        "plt.ylabel('Giá (USD)')\n",
        "plt.legend()\n",
        "plt.show()"
      ]
    },
    {
      "cell_type": "markdown",
      "metadata": {
        "pycharm": {
          "name": "#%% md\n"
        },
        "id": "ZLmiQJ8pDdkb"
      },
      "source": [
        "### BONUS: Create your own question and answer it."
      ]
    },
    {
      "cell_type": "code",
      "execution_count": null,
      "metadata": {
        "collapsed": true,
        "pycharm": {
          "name": "#%%\n"
        },
        "id": "DoTlr0IgDdkb"
      },
      "outputs": [],
      "source": []
    }
  ],
  "metadata": {
    "anaconda-cloud": {},
    "kernelspec": {
      "display_name": "Python [default]",
      "language": "python",
      "name": "python2"
    },
    "language_info": {
      "codemirror_mode": {
        "name": "ipython",
        "version": 2
      },
      "file_extension": ".py",
      "mimetype": "text/x-python",
      "name": "python",
      "nbconvert_exporter": "python",
      "pygments_lexer": "ipython2",
      "version": "2.7.12"
    },
    "colab": {
      "provenance": []
    }
  },
  "nbformat": 4,
  "nbformat_minor": 0
}