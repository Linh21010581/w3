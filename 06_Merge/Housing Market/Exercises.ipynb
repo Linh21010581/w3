{
  "cells": [
    {
      "cell_type": "markdown",
      "metadata": {
        "pycharm": {
          "name": "#%% md\n"
        },
        "id": "2wvXp-rrB1LL"
      },
      "source": [
        "# Housing Market"
      ]
    },
    {
      "cell_type": "markdown",
      "metadata": {
        "pycharm": {
          "name": "#%% md\n"
        },
        "id": "vYlTpWJwB1LO"
      },
      "source": [
        "### Introduction:\n",
        "\n",
        "This time we will create our own dataset with fictional numbers to describe a house market. As we are going to create random data don't try to reason of the numbers.\n",
        "\n",
        "### Step 1. Import the necessary libraries"
      ]
    },
    {
      "cell_type": "code",
      "execution_count": 1,
      "metadata": {
        "pycharm": {
          "name": "#%%\n"
        },
        "id": "c-JThHs2B1LP"
      },
      "outputs": [],
      "source": [
        "import pandas as pd\n",
        "import numpy as np"
      ]
    },
    {
      "cell_type": "markdown",
      "metadata": {
        "pycharm": {
          "name": "#%% md\n"
        },
        "id": "1jHx4JUxB1LQ"
      },
      "source": [
        "### Step 2. Create 3 differents Series, each of length 100, as follows:\n",
        "1. The first a random number from 1 to 4\n",
        "2. The second a random number from 1 to 3\n",
        "3. The third a random number from 10,000 to 30,000"
      ]
    },
    {
      "cell_type": "code",
      "execution_count": 2,
      "metadata": {
        "pycharm": {
          "name": "#%%\n"
        },
        "id": "o79ZeM2WB1LR"
      },
      "outputs": [],
      "source": [
        "s1 = pd.Series(np.random.randint(1, 5, 100))\n",
        "s2 = pd.Series(np.random.randint(1, 4, 100))\n",
        "s3 = pd.Series(np.random.randint(10000, 30001, 100))"
      ]
    },
    {
      "cell_type": "markdown",
      "metadata": {
        "pycharm": {
          "name": "#%% md\n"
        },
        "id": "_izB82uZB1LR"
      },
      "source": [
        "### Step 3. Let's create a DataFrame by joinning the Series by column"
      ]
    },
    {
      "cell_type": "code",
      "execution_count": 3,
      "metadata": {
        "pycharm": {
          "name": "#%%\n"
        },
        "id": "oIodeGFjB1LR"
      },
      "outputs": [],
      "source": [
        "df = pd.concat([s1, s2, s3], axis=1)"
      ]
    },
    {
      "cell_type": "markdown",
      "metadata": {
        "pycharm": {
          "name": "#%% md\n"
        },
        "id": "Ugf7QPUtB1LR"
      },
      "source": [
        "### Step 4. Change the name of the columns to bedrs, bathrs, price_sqr_meter"
      ]
    },
    {
      "cell_type": "code",
      "execution_count": 4,
      "metadata": {
        "pycharm": {
          "name": "#%%\n"
        },
        "id": "ZREFY3XXB1LR"
      },
      "outputs": [],
      "source": [
        "df.columns = ['bedrs', 'bathrs', 'price_sqr_meter']"
      ]
    },
    {
      "cell_type": "markdown",
      "metadata": {
        "pycharm": {
          "name": "#%% md\n"
        },
        "id": "2Yq2CHKuB1LS"
      },
      "source": [
        "### Step 5. Create a one column DataFrame with the values of the 3 Series and assign it to 'bigcolumn'"
      ]
    },
    {
      "cell_type": "code",
      "execution_count": 5,
      "metadata": {
        "pycharm": {
          "name": "#%%\n"
        },
        "id": "h8x297E2B1LS"
      },
      "outputs": [],
      "source": [
        "bigcolumn = pd.concat([s1, s2, s3]).reset_index(drop=True)\n"
      ]
    },
    {
      "cell_type": "markdown",
      "metadata": {
        "pycharm": {
          "name": "#%% md\n"
        },
        "id": "GKuwiCMgB1LS"
      },
      "source": [
        "### Step 6. Oops, it seems it is going only until index 99. Is it true?"
      ]
    },
    {
      "cell_type": "code",
      "execution_count": 6,
      "metadata": {
        "pycharm": {
          "name": "#%%\n"
        },
        "id": "nEA_OtZmB1LS",
        "outputId": "902be8f7-342f-40c7-d1cd-13d21796c17e",
        "colab": {
          "base_uri": "https://localhost:8080/"
        }
      },
      "outputs": [
        {
          "output_type": "stream",
          "name": "stdout",
          "text": [
            "299\n"
          ]
        }
      ],
      "source": [
        "print(bigcolumn.index.max())"
      ]
    },
    {
      "cell_type": "markdown",
      "metadata": {
        "pycharm": {
          "name": "#%% md\n"
        },
        "id": "-xXk6EtiB1LT"
      },
      "source": [
        "### Step 7. Reindex the DataFrame so it goes from 0 to 299"
      ]
    },
    {
      "cell_type": "code",
      "execution_count": 7,
      "metadata": {
        "pycharm": {
          "name": "#%%\n"
        },
        "id": "Smf4jqB8B1LT"
      },
      "outputs": [],
      "source": [
        "bigcolumn = bigcolumn.reindex(range(300))\n"
      ]
    },
    {
      "cell_type": "code",
      "source": [
        "print(df.head())\n",
        "print(bigcolumn.tail())"
      ],
      "metadata": {
        "id": "ncNrpT4fCNjc",
        "outputId": "d07da72f-ac09-4e47-8e11-6f416d011042",
        "colab": {
          "base_uri": "https://localhost:8080/"
        }
      },
      "execution_count": 8,
      "outputs": [
        {
          "output_type": "stream",
          "name": "stdout",
          "text": [
            "   bedrs  bathrs  price_sqr_meter\n",
            "0      2       3            23451\n",
            "1      4       1            18291\n",
            "2      2       3            22235\n",
            "3      4       3            27882\n",
            "4      3       3            22035\n",
            "295    16268\n",
            "296    15483\n",
            "297    12022\n",
            "298    14681\n",
            "299    18136\n",
            "dtype: int64\n"
          ]
        }
      ]
    }
  ],
  "metadata": {
    "kernelspec": {
      "display_name": "Python 2",
      "language": "python",
      "name": "python2"
    },
    "language_info": {
      "codemirror_mode": {
        "name": "ipython",
        "version": 2
      },
      "file_extension": ".py",
      "mimetype": "text/x-python",
      "name": "python",
      "nbconvert_exporter": "python",
      "pygments_lexer": "ipython2",
      "version": "2.7.11"
    },
    "colab": {
      "provenance": []
    }
  },
  "nbformat": 4,
  "nbformat_minor": 0
}