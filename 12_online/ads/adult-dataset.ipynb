{
  "cells": [
    {
      "cell_type": "markdown",
      "metadata": {
        "pycharm": {
          "name": "#%% md\n"
        },
        "id": "p55ZRz6vHfM2"
      },
      "source": [
        "\n",
        "# Adult dataset\n",
        "\n",
        "Unique values of all features (for more information, please see the links above):\n",
        "- `age`: continuous.\n",
        "- `workclass`: Private, Self-emp-not-inc, Self-emp-inc, Federal-gov, Local-gov, State-gov, Without-pay, Never-worked.\n",
        "- `fnlwgt`: continuous.\n",
        "- `education`: Bachelors, Some-college, 11th, HS-grad, Prof-school, Assoc-acdm, Assoc-voc, 9th, 7th-8th, 12th, Masters, 1st-4th, 10th, Doctorate, 5th-6th, Preschool.\n",
        "- `education-num`: continuous.\n",
        "- `marital-status`: Married-civ-spouse, Divorced, Never-married, Separated, Widowed, Married-spouse-absent, Married-AF-spouse.\n",
        "- `occupation`: Tech-support, Craft-repair, Other-service, Sales, Exec-managerial, Prof-specialty, Handlers-cleaners, Machine-op-inspct, Adm-clerical, Farming-fishing, Transport-moving, Priv-house-serv, Protective-serv, Armed-Forces.\n",
        "- `relationship`: Wife, Own-child, Husband, Not-in-family, Other-relative, Unmarried.\n",
        "- `race`: White, Asian-Pac-Islander, Amer-Indian-Eskimo, Other, Black.\n",
        "- `sex`: Female, Male.\n",
        "- `capital-gain`: continuous.\n",
        "- `capital-loss`: continuous.\n",
        "- `hours-per-week`: continuous.\n",
        "- `native-country`: United-States, Cambodia, England, Puerto-Rico, Canada, Germany, Outlying-US(Guam-USVI-etc), India, Japan, Greece, South, China, Cuba, Iran, Honduras, Philippines, Italy, Poland, Jamaica, Vietnam, Mexico, Portugal, Ireland, France, Dominican-Republic, Laos, Ecuador, Taiwan, Haiti, Columbia, Hungary, Guatemala, Nicaragua, Scotland, Thailand, Yugoslavia, El-Salvador, Trinadad&Tobago, Peru, Hong, Holand-Netherlands.   \n",
        "- `salary`: >50K,<=50K"
      ]
    },
    {
      "cell_type": "markdown",
      "metadata": {
        "pycharm": {
          "name": "#%% md\n"
        },
        "id": "cyF_oKdMHfM3"
      },
      "source": [
        "### Step 1. Import the necessary libraries"
      ]
    },
    {
      "cell_type": "code",
      "execution_count": 1,
      "metadata": {
        "pycharm": {
          "name": "#%%\n"
        },
        "id": "KS6UySBXHfM4"
      },
      "outputs": [],
      "source": [
        "import pandas as pd\n",
        "import matplotlib.pyplot as plt\n",
        "\n",
        "# set this so the graphs open internally\n",
        "%matplotlib inline"
      ]
    },
    {
      "cell_type": "markdown",
      "metadata": {
        "pycharm": {
          "name": "#%% md\n"
        },
        "id": "-b2bDUL3HfM4"
      },
      "source": [
        "### Step 2. Import the dataset from this [address](https://github.com/thieu1995/csv-files/blob/main/data/pandas/adult.data)."
      ]
    },
    {
      "cell_type": "code",
      "execution_count": 2,
      "metadata": {
        "_uuid": "d32cafcbe966dbdfa40c3017d16d6f8c96bfb3e2",
        "collapsed": true,
        "pycharm": {
          "name": "#%%\n"
        },
        "id": "lAXu8aISHfM4"
      },
      "outputs": [],
      "source": [
        "url = \"https://archive.ics.uci.edu/ml/machine-learning-databases/adult/adult.data\"\n",
        "columns = [\n",
        "    \"age\", \"workclass\", \"fnlwgt\", \"education\", \"education-num\", \"marital-status\",\n",
        "    \"occupation\", \"relationship\", \"race\", \"sex\", \"capital-gain\", \"capital-loss\",\n",
        "    \"hours-per-week\", \"native-country\", \"salary\"\n",
        "]\n",
        "df = pd.read_csv(url, names=columns, na_values=\" ?\", skipinitialspace=True)"
      ]
    },
    {
      "cell_type": "markdown",
      "metadata": {
        "pycharm": {
          "name": "#%% md\n"
        },
        "id": "4dw8q0hwHfM4"
      },
      "source": []
    },
    {
      "cell_type": "markdown",
      "metadata": {
        "_uuid": "4748793234a5d325ea60d13331ecf93e29774523",
        "pycharm": {
          "name": "#%% md\n"
        },
        "id": "2O_SohVwHfM5"
      },
      "source": [
        "**2. What is the average age (*age* feature) of women?**"
      ]
    },
    {
      "cell_type": "code",
      "execution_count": 3,
      "metadata": {
        "_uuid": "64f60d928855107d8980875656dcdf3587d91646",
        "collapsed": true,
        "pycharm": {
          "name": "#%%\n"
        },
        "id": "us48uov9HfM5",
        "outputId": "da5e9013-142a-4686-b1ab-b694d777f228",
        "colab": {
          "base_uri": "https://localhost:8080/"
        }
      },
      "outputs": [
        {
          "output_type": "stream",
          "name": "stdout",
          "text": [
            "Average age of women: 36.85823043357163\n"
          ]
        }
      ],
      "source": [
        "avg_age_women = df[df[\"sex\"] == \"Female\"][\"age\"].mean()\n",
        "print(f\"Average age of women: {avg_age_women}\")"
      ]
    },
    {
      "cell_type": "markdown",
      "metadata": {
        "_uuid": "80e87c421c348067e88769c64e554206c51727d1",
        "pycharm": {
          "name": "#%% md\n"
        },
        "id": "r57wonCZHfM5"
      },
      "source": [
        "**3. What is the percentage of German citizens (*native-country* feature)?**"
      ]
    },
    {
      "cell_type": "code",
      "execution_count": 4,
      "metadata": {
        "_uuid": "ca9807509692638bd945671ed7d8b4a5ad1f3626",
        "collapsed": true,
        "pycharm": {
          "name": "#%%\n"
        },
        "id": "HnVqucZ0HfM5",
        "outputId": "2059a0f4-4e3e-4f06-ab04-cd834900f208",
        "colab": {
          "base_uri": "https://localhost:8080/"
        }
      },
      "outputs": [
        {
          "output_type": "stream",
          "name": "stdout",
          "text": [
            "Percentage of German citizens: 0.42%\n"
          ]
        }
      ],
      "source": [
        "german_count = df[df[\"native-country\"] == \"Germany\"].shape[0]\n",
        "total_count = df.shape[0]\n",
        "german_percentage = (german_count / total_count) * 100\n",
        "print(f\"Percentage of German citizens: {german_percentage:.2f}%\")"
      ]
    },
    {
      "cell_type": "markdown",
      "metadata": {
        "_uuid": "be9911cf525df4fca2c1d14b8720bc8a82f462e7",
        "pycharm": {
          "name": "#%% md\n"
        },
        "id": "hAZgxj-qHfM5"
      },
      "source": [
        "**4-5. What are the mean and standard deviation of age for those who earn more than 50K per year (*salary* feature) and those who earn less than 50K per year? **"
      ]
    },
    {
      "cell_type": "code",
      "execution_count": 5,
      "metadata": {
        "_uuid": "97948f0115f949913d211627151b5605bcd204fd",
        "collapsed": true,
        "pycharm": {
          "name": "#%%\n"
        },
        "id": "TfZtNakrHfM5",
        "outputId": "d9f6d65a-8cff-4002-a8a1-911d172ed638",
        "colab": {
          "base_uri": "https://localhost:8080/"
        }
      },
      "outputs": [
        {
          "output_type": "stream",
          "name": "stdout",
          "text": [
            "             mean        std\n",
            "salary                      \n",
            "<=50K   36.783738  14.020088\n",
            ">50K    44.249841  10.519028\n"
          ]
        }
      ],
      "source": [
        "salary_groups = df.groupby(\"salary\")[\"age\"].agg([\"mean\", \"std\"])\n",
        "print(salary_groups)"
      ]
    },
    {
      "cell_type": "markdown",
      "metadata": {
        "_uuid": "180c3fe6f8b250b877c1d86866067b80acabdb64",
        "pycharm": {
          "name": "#%% md\n"
        },
        "id": "vsE3R0w4HfM5"
      },
      "source": [
        "**6. Is it true that people who earn more than 50K have at least high school education? (*education – Bachelors, Prof-school, Assoc-acdm, Assoc-voc, Masters* or *Doctorate* feature)**"
      ]
    },
    {
      "cell_type": "code",
      "execution_count": 6,
      "metadata": {
        "_uuid": "58f38ebfa2b0e1418a6a1a680d0743697f9876a2",
        "collapsed": true,
        "pycharm": {
          "name": "#%%\n"
        },
        "id": "8D0sNW2qHfM5",
        "outputId": "343699d1-981f-4428-db74-1eecbb78d021",
        "colab": {
          "base_uri": "https://localhost:8080/"
        }
      },
      "outputs": [
        {
          "output_type": "stream",
          "name": "stdout",
          "text": [
            "Do all >50K earners have at least high school education? False\n"
          ]
        }
      ],
      "source": [
        "high_edu = [\"Bachelors\", \"Prof-school\", \"Assoc-acdm\", \"Assoc-voc\", \"Masters\", \"Doctorate\"]\n",
        "high_edu_check = df[df[\"salary\"] == \">50K\"][\"education\"].isin(high_edu).all()\n",
        "print(f\"Do all >50K earners have at least high school education? {high_edu_check}\")"
      ]
    },
    {
      "cell_type": "markdown",
      "metadata": {
        "_uuid": "87d6bc9ec1c230e66416ce94533ea250368009cc",
        "pycharm": {
          "name": "#%% md\n"
        },
        "id": "MfwI5sGNHfM6"
      },
      "source": [
        "**7. Display age statistics for each race (*race* feature) and each gender (*sex* feature). Use *groupby()* and *describe()*. Find the maximum age of men of *Amer-Indian-Eskimo* race.**"
      ]
    },
    {
      "cell_type": "code",
      "execution_count": 7,
      "metadata": {
        "_uuid": "a4567b72200b583f7f2ee1583405d636c12169db",
        "collapsed": true,
        "pycharm": {
          "name": "#%%\n"
        },
        "id": "rAeec14KHfM6",
        "outputId": "94267232-ad79-4571-ac1c-f0c37331a391",
        "colab": {
          "base_uri": "https://localhost:8080/"
        }
      },
      "outputs": [
        {
          "output_type": "stream",
          "name": "stdout",
          "text": [
            "                             count       mean        std   min   25%   50%  \\\n",
            "race               sex                                                       \n",
            "Amer-Indian-Eskimo Female    119.0  37.117647  13.114991  17.0  27.0  36.0   \n",
            "                   Male      192.0  37.208333  12.049563  17.0  28.0  35.0   \n",
            "Asian-Pac-Islander Female    346.0  35.089595  12.300845  17.0  25.0  33.0   \n",
            "                   Male      693.0  39.073593  12.883944  18.0  29.0  37.0   \n",
            "Black              Female   1555.0  37.854019  12.637197  17.0  28.0  37.0   \n",
            "                   Male     1569.0  37.682600  12.882612  17.0  27.0  36.0   \n",
            "Other              Female    109.0  31.678899  11.631599  17.0  23.0  29.0   \n",
            "                   Male      162.0  34.654321  11.355531  17.0  26.0  32.0   \n",
            "White              Female   8642.0  36.811618  14.329093  17.0  25.0  35.0   \n",
            "                   Male    19174.0  39.652498  13.436029  17.0  29.0  38.0   \n",
            "\n",
            "                             75%   max  \n",
            "race               sex                  \n",
            "Amer-Indian-Eskimo Female  46.00  80.0  \n",
            "                   Male    45.00  82.0  \n",
            "Asian-Pac-Islander Female  43.75  75.0  \n",
            "                   Male    46.00  90.0  \n",
            "Black              Female  46.00  90.0  \n",
            "                   Male    46.00  90.0  \n",
            "Other              Female  39.00  74.0  \n",
            "                   Male    42.00  77.0  \n",
            "White              Female  46.00  90.0  \n",
            "                   Male    49.00  90.0  \n",
            "Maximum age of Amer-Indian-Eskimo men: 82\n"
          ]
        }
      ],
      "source": [
        "age_stats = df.groupby([\"race\", \"sex\"])[\"age\"].describe()\n",
        "max_age_amerind_male = df[(df[\"race\"] == \"Amer-Indian-Eskimo\") & (df[\"sex\"] == \"Male\")][\"age\"].max()\n",
        "print(age_stats)\n",
        "print(f\"Maximum age of Amer-Indian-Eskimo men: {max_age_amerind_male}\")"
      ]
    },
    {
      "cell_type": "markdown",
      "metadata": {
        "_uuid": "19411d604b0d4337a4a048a2f0e898541f39ab76",
        "pycharm": {
          "name": "#%% md\n"
        },
        "id": "lRTF3dpxHfM6"
      },
      "source": [
        "**8. Among whom is the proportion of those who earn a lot (>50K) greater: married or single men (*marital-status* feature)? Consider as married those who have a *marital-status* starting with *Married* (Married-civ-spouse, Married-spouse-absent or Married-AF-spouse), the rest are considered bachelors.**"
      ]
    },
    {
      "cell_type": "code",
      "execution_count": 8,
      "metadata": {
        "_uuid": "5bb3a8524fcbd794707075ccf6aaf8dd0f30a3dd",
        "collapsed": true,
        "pycharm": {
          "name": "#%%\n"
        },
        "id": "IF4kfBOWHfM6",
        "outputId": "02b041fb-dc24-45e9-8291-37b5a1dfbc8e",
        "colab": {
          "base_uri": "https://localhost:8080/"
        }
      },
      "outputs": [
        {
          "output_type": "stream",
          "name": "stdout",
          "text": [
            "salary             <=50K      >50K\n",
            "marital-status                    \n",
            "Married         0.559486  0.440514\n",
            "Single          0.915505  0.084495\n"
          ]
        }
      ],
      "source": [
        "df[\"marital-status\"] = df[\"marital-status\"].apply(lambda x: \"Married\" if x.startswith(\"Married\") else \"Single\")\n",
        "married_vs_single = df[df[\"sex\"] == \"Male\"].groupby(\"marital-status\")[\"salary\"].value_counts(normalize=True).unstack()\n",
        "print(married_vs_single)"
      ]
    },
    {
      "cell_type": "markdown",
      "metadata": {
        "_uuid": "34f2076e7d331b95a23b990372809b709d2c8183",
        "pycharm": {
          "name": "#%% md\n"
        },
        "id": "LQaFSYclHfM6"
      },
      "source": [
        "**9. What is the maximum number of hours a person works per week (*hours-per-week* feature)? How many people work such a number of hours, and what is the percentage of those who earn a lot (>50K) among them?**"
      ]
    },
    {
      "cell_type": "code",
      "execution_count": 9,
      "metadata": {
        "_uuid": "3571468172fc4bcf34e10b3d6ab358d4e41f7ef4",
        "collapsed": true,
        "pycharm": {
          "name": "#%%\n"
        },
        "id": "7bZA7ojRHfM6",
        "outputId": "9ed4b384-4d07-479f-8391-fefe6f44b805",
        "colab": {
          "base_uri": "https://localhost:8080/"
        }
      },
      "outputs": [
        {
          "output_type": "stream",
          "name": "stdout",
          "text": [
            "Max work hours per week: 99, Number of people: 85, Percentage earning >50K: 29.41%\n"
          ]
        }
      ],
      "source": [
        "max_hours = df[\"hours-per-week\"].max()\n",
        "num_max_hours = df[df[\"hours-per-week\"] == max_hours].shape[0]\n",
        "high_earners_max_hours = df[(df[\"hours-per-week\"] == max_hours) & (df[\"salary\"] == \">50K\")].shape[0]\n",
        "percentage_high_earners = (high_earners_max_hours / num_max_hours) * 100\n",
        "print(f\"Max work hours per week: {max_hours}, Number of people: {num_max_hours}, Percentage earning >50K: {percentage_high_earners:.2f}%\")\n"
      ]
    },
    {
      "cell_type": "markdown",
      "metadata": {
        "_uuid": "d539d4d137fac1c5ea25bc516188eb657d67e9b4",
        "pycharm": {
          "name": "#%% md\n"
        },
        "id": "lYH6LjSWHfM6"
      },
      "source": [
        "**10. Count the average time of work (*hours-per-week*) for those who earn a little and a lot (*salary*) for each country (*native-country*). What will these be for Japan?**"
      ]
    },
    {
      "cell_type": "code",
      "execution_count": 10,
      "metadata": {
        "_uuid": "75a93411f1e3b519afcc27c026aaa0c67eb526e9",
        "collapsed": true,
        "pycharm": {
          "name": "#%%\n"
        },
        "id": "2dVhqvQJHfM6",
        "outputId": "f3e604ab-0c92-45df-cc12-55055acaa9da",
        "colab": {
          "base_uri": "https://localhost:8080/"
        }
      },
      "outputs": [
        {
          "output_type": "stream",
          "name": "stdout",
          "text": [
            "salary\n",
            "<=50K    41.000000\n",
            ">50K     47.958333\n",
            "Name: Japan, dtype: float64\n"
          ]
        }
      ],
      "source": [
        "avg_hours_by_country = df.groupby([\"native-country\", \"salary\"])[\"hours-per-week\"].mean().unstack()\n",
        "print(avg_hours_by_country.loc[\"Japan\"])"
      ]
    }
  ],
  "metadata": {
    "anaconda-cloud": {},
    "kernelspec": {
      "display_name": "Python 3 (ipykernel)",
      "language": "python",
      "name": "python3"
    },
    "language_info": {
      "codemirror_mode": {
        "name": "ipython",
        "version": 3
      },
      "file_extension": ".py",
      "mimetype": "text/x-python",
      "name": "python",
      "nbconvert_exporter": "python",
      "pygments_lexer": "ipython3",
      "version": "3.8.5"
    },
    "colab": {
      "provenance": []
    }
  },
  "nbformat": 4,
  "nbformat_minor": 0
}