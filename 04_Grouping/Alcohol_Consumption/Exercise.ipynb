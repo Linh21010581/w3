{
  "cells": [
    {
      "cell_type": "markdown",
      "metadata": {
        "pycharm": {
          "name": "#%% md\n"
        },
        "id": "-hfHZsgiAAWM"
      },
      "source": [
        "# Ex - GroupBy"
      ]
    },
    {
      "cell_type": "markdown",
      "metadata": {
        "pycharm": {
          "name": "#%% md\n"
        },
        "id": "WIC8uwZbAAWP"
      },
      "source": [
        "### Introduction:\n",
        "\n",
        "GroupBy can be summarized as Split-Apply-Combine.\n",
        "\n",
        "Special thanks to: https://github.com/justmarkham for sharing the dataset and materials.\n",
        "\n",
        "Check out this [Diagram](http://i.imgur.com/yjNkiwL.png)  \n",
        "### Step 1. Import the necessary libraries"
      ]
    },
    {
      "cell_type": "code",
      "execution_count": 1,
      "metadata": {
        "pycharm": {
          "name": "#%%\n"
        },
        "id": "so9_6bJsAAWQ"
      },
      "outputs": [],
      "source": [
        "import pandas as pd\n"
      ]
    },
    {
      "cell_type": "markdown",
      "metadata": {
        "pycharm": {
          "name": "#%% md\n"
        },
        "id": "TsMacYG-AAWQ"
      },
      "source": [
        "### Step 2. Import the dataset from this [address](https://github.com/thieu1995/csv-files/blob/main/data/pandas/drinks.csv)."
      ]
    },
    {
      "cell_type": "code",
      "source": [
        "dataset_url = \"https://raw.githubusercontent.com/justmarkham/pandas-videos/master/data/drinks.csv\"\n",
        "drinks = pd.read_csv(dataset_url)\n"
      ],
      "metadata": {
        "id": "cCQGE82tANrf"
      },
      "execution_count": 3,
      "outputs": []
    },
    {
      "cell_type": "markdown",
      "metadata": {
        "pycharm": {
          "name": "#%% md\n"
        },
        "id": "HAzUGMwKAAWQ"
      },
      "source": [
        "### Step 3. Assign it to a variable called drinks."
      ]
    },
    {
      "cell_type": "code",
      "execution_count": 4,
      "metadata": {
        "pycharm": {
          "name": "#%%\n"
        },
        "id": "KuqptIZ9AAWR",
        "outputId": "6b36f91a-1a92-4768-f4e8-bbabef7c684b",
        "colab": {
          "base_uri": "https://localhost:8080/"
        }
      },
      "outputs": [
        {
          "output_type": "stream",
          "name": "stdout",
          "text": [
            "       country  beer_servings  spirit_servings  wine_servings  \\\n",
            "0  Afghanistan              0                0              0   \n",
            "1      Albania             89              132             54   \n",
            "2      Algeria             25                0             14   \n",
            "3      Andorra            245              138            312   \n",
            "4       Angola            217               57             45   \n",
            "\n",
            "   total_litres_of_pure_alcohol continent  \n",
            "0                           0.0      Asia  \n",
            "1                           4.9    Europe  \n",
            "2                           0.7    Africa  \n",
            "3                          12.4    Europe  \n",
            "4                           5.9    Africa  \n"
          ]
        }
      ],
      "source": [
        "print(drinks.head())\n"
      ]
    },
    {
      "cell_type": "markdown",
      "metadata": {
        "pycharm": {
          "name": "#%% md\n"
        },
        "id": "1zWNNZR-AAWR"
      },
      "source": [
        "### Step 4. Which continent drinks more beer on average?"
      ]
    },
    {
      "cell_type": "code",
      "execution_count": 6,
      "metadata": {
        "pycharm": {
          "name": "#%%\n"
        },
        "id": "D6CDJEKFAAWR",
        "outputId": "414cce43-9c1d-46f3-d6ba-2fea5f8652d4",
        "colab": {
          "base_uri": "https://localhost:8080/"
        }
      },
      "outputs": [
        {
          "output_type": "stream",
          "name": "stdout",
          "text": [
            "Continent with highest average beer consumption: Europe\n"
          ]
        }
      ],
      "source": [
        "beer_avg = drinks.groupby('continent')['beer_servings'].mean()\n",
        "print(\"Continent with highest average beer consumption:\", beer_avg.idxmax())"
      ]
    },
    {
      "cell_type": "markdown",
      "metadata": {
        "pycharm": {
          "name": "#%% md\n"
        },
        "id": "Xtwt1IW9AAWR"
      },
      "source": [
        "### Step 5. For each continent print the statistics for wine consumption."
      ]
    },
    {
      "cell_type": "code",
      "execution_count": 7,
      "metadata": {
        "pycharm": {
          "name": "#%%\n"
        },
        "id": "zPH5GpiFAAWR",
        "outputId": "1498911f-529f-497f-bdd6-f6ba1602c839",
        "colab": {
          "base_uri": "https://localhost:8080/"
        }
      },
      "outputs": [
        {
          "output_type": "stream",
          "name": "stdout",
          "text": [
            "               count        mean        std  min   25%    50%     75%    max\n",
            "continent                                                                   \n",
            "Africa          53.0   16.264151  38.846419  0.0   1.0    2.0   13.00  233.0\n",
            "Asia            44.0    9.068182  21.667034  0.0   0.0    1.0    8.00  123.0\n",
            "Europe          45.0  142.222222  97.421738  0.0  59.0  128.0  195.00  370.0\n",
            "North America   23.0   24.521739  28.266378  1.0   5.0   11.0   34.00  100.0\n",
            "Oceania         16.0   35.625000  64.555790  0.0   1.0    8.5   23.25  212.0\n",
            "South America   12.0   62.416667  88.620189  1.0   3.0   12.0   98.50  221.0\n"
          ]
        }
      ],
      "source": [
        "wine_stats = drinks.groupby('continent')['wine_servings'].describe()\n",
        "print(wine_stats)"
      ]
    },
    {
      "cell_type": "markdown",
      "metadata": {
        "pycharm": {
          "name": "#%% md\n"
        },
        "id": "TGJdVKG0AAWS"
      },
      "source": [
        "### Step 6. Print the mean alcohol consumption per continent for every column"
      ]
    },
    {
      "cell_type": "code",
      "execution_count": 11,
      "metadata": {
        "pycharm": {
          "name": "#%%\n"
        },
        "id": "d00zH1B0AAWS",
        "outputId": "2cc5c474-9939-47cb-adec-2cdaff26b4a6",
        "colab": {
          "base_uri": "https://localhost:8080/"
        }
      },
      "outputs": [
        {
          "output_type": "stream",
          "name": "stdout",
          "text": [
            "               beer_servings  spirit_servings  wine_servings  \\\n",
            "continent                                                      \n",
            "Africa             61.471698        16.339623      16.264151   \n",
            "Asia               37.045455        60.840909       9.068182   \n",
            "Europe            193.777778       132.555556     142.222222   \n",
            "North America     145.434783       165.739130      24.521739   \n",
            "Oceania            89.687500        58.437500      35.625000   \n",
            "South America     175.083333       114.750000      62.416667   \n",
            "\n",
            "               total_litres_of_pure_alcohol  \n",
            "continent                                    \n",
            "Africa                             3.007547  \n",
            "Asia                               2.170455  \n",
            "Europe                             8.617778  \n",
            "North America                      5.995652  \n",
            "Oceania                            3.381250  \n",
            "South America                      6.308333  \n"
          ]
        }
      ],
      "source": [
        "mean_alcohol = drinks.groupby(\"continent\").mean(numeric_only=True)\n",
        "print(mean_alcohol)"
      ]
    },
    {
      "cell_type": "markdown",
      "metadata": {
        "pycharm": {
          "name": "#%% md\n"
        },
        "id": "aeBZ8oD0AAWS"
      },
      "source": [
        "### Step 7. Print the median alcohol consumption per continent for every column"
      ]
    },
    {
      "cell_type": "code",
      "execution_count": 12,
      "metadata": {
        "pycharm": {
          "name": "#%%\n"
        },
        "id": "TzM6WQmZAAWS",
        "outputId": "c84048cb-312d-4086-cf72-9befd32803df",
        "colab": {
          "base_uri": "https://localhost:8080/"
        }
      },
      "outputs": [
        {
          "output_type": "stream",
          "name": "stdout",
          "text": [
            "               beer_servings  spirit_servings  wine_servings  \\\n",
            "continent                                                      \n",
            "Africa                  32.0              3.0            2.0   \n",
            "Asia                    17.5             16.0            1.0   \n",
            "Europe                 219.0            122.0          128.0   \n",
            "North America          143.0            137.0           11.0   \n",
            "Oceania                 52.5             37.0            8.5   \n",
            "South America          162.5            108.5           12.0   \n",
            "\n",
            "               total_litres_of_pure_alcohol  \n",
            "continent                                    \n",
            "Africa                                 2.30  \n",
            "Asia                                   1.20  \n",
            "Europe                                10.00  \n",
            "North America                          6.30  \n",
            "Oceania                                1.75  \n",
            "South America                          6.85  \n"
          ]
        }
      ],
      "source": [
        "median_alcohol = drinks.groupby(\"continent\").median(numeric_only=True)\n",
        "print(median_alcohol)"
      ]
    },
    {
      "cell_type": "markdown",
      "metadata": {
        "pycharm": {
          "name": "#%% md\n"
        },
        "id": "tmX-08sPAAWT"
      },
      "source": [
        "### Step 8. Print the mean, min and max values for spirit consumption.\n",
        "#### This time output a DataFrame"
      ]
    },
    {
      "cell_type": "code",
      "execution_count": 13,
      "metadata": {
        "pycharm": {
          "name": "#%%\n"
        },
        "id": "A_jeH7XPAAWT",
        "outputId": "cb66e78f-57c4-453e-b58e-f45ba8efa421",
        "colab": {
          "base_uri": "https://localhost:8080/"
        }
      },
      "outputs": [
        {
          "output_type": "stream",
          "name": "stdout",
          "text": [
            "mean     80.994819\n",
            "min       0.000000\n",
            "max     438.000000\n",
            "Name: spirit_servings, dtype: float64\n"
          ]
        }
      ],
      "source": [
        "spirit_stats = drinks['spirit_servings'].agg(['mean', 'min', 'max'])\n",
        "print(spirit_stats)\n"
      ]
    }
  ],
  "metadata": {
    "kernelspec": {
      "display_name": "Python 2",
      "language": "python",
      "name": "python2"
    },
    "language_info": {
      "codemirror_mode": {
        "name": "ipython",
        "version": 2
      },
      "file_extension": ".py",
      "mimetype": "text/x-python",
      "name": "python",
      "nbconvert_exporter": "python",
      "pygments_lexer": "ipython2",
      "version": "2.7.16"
    },
    "colab": {
      "provenance": []
    }
  },
  "nbformat": 4,
  "nbformat_minor": 0
}