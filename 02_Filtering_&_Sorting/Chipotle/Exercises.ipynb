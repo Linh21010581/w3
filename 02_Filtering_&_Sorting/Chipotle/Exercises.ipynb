{
  "cells": [
    {
      "cell_type": "markdown",
      "metadata": {
        "pycharm": {
          "name": "#%% md\n"
        },
        "id": "nSFlVI8o93EX"
      },
      "source": [
        "# Ex1 - Filtering and Sorting Data"
      ]
    },
    {
      "cell_type": "markdown",
      "metadata": {
        "pycharm": {
          "name": "#%% md\n"
        },
        "id": "0DhBAkdS93EZ"
      },
      "source": [
        "This time we are going to pull data directly from the internet.\n",
        "Special thanks to: https://github.com/justmarkham for sharing the dataset and materials.\n",
        "\n",
        "### Step 1. Import the necessary libraries"
      ]
    },
    {
      "cell_type": "code",
      "execution_count": 1,
      "metadata": {
        "pycharm": {
          "name": "#%%\n",
          "is_executing": true
        },
        "id": "omggy2cp93EZ"
      },
      "outputs": [],
      "source": [
        "\n",
        "import pandas as pd\n",
        "import numpy as np"
      ]
    },
    {
      "cell_type": "markdown",
      "metadata": {
        "pycharm": {
          "name": "#%% md\n"
        },
        "id": "uJ-csDoI93Ea"
      },
      "source": [
        "### Step 2. Import the dataset from this [address](https://raw.githubusercontent.com/thieu1995/csv-files/main/data/pandas/chipotle.tsv)."
      ]
    },
    {
      "cell_type": "code",
      "source": [
        "url = \"https://raw.githubusercontent.com/justmarkham/DAT8/master/data/chipotle.tsv\"\n",
        "chipo = pd.read_csv(url, sep='\\t')"
      ],
      "metadata": {
        "id": "bus2qL82-GVI"
      },
      "execution_count": 2,
      "outputs": []
    },
    {
      "cell_type": "markdown",
      "metadata": {
        "pycharm": {
          "name": "#%% md\n"
        },
        "id": "X7KCg8iO93Ea"
      },
      "source": [
        "### Step 3. Assign it to a variable called chipo."
      ]
    },
    {
      "cell_type": "code",
      "execution_count": 3,
      "metadata": {
        "pycharm": {
          "name": "#%%\n"
        },
        "id": "Z0R2cqrn93Ea",
        "outputId": "c57f7f22-7d06-45a8-a43a-b73cdf2ac200",
        "colab": {
          "base_uri": "https://localhost:8080/"
        }
      },
      "outputs": [
        {
          "output_type": "stream",
          "name": "stdout",
          "text": [
            "   order_id  quantity                              item_name  \\\n",
            "0         1         1           Chips and Fresh Tomato Salsa   \n",
            "1         1         1                                   Izze   \n",
            "2         1         1                       Nantucket Nectar   \n",
            "3         1         1  Chips and Tomatillo-Green Chili Salsa   \n",
            "4         2         2                           Chicken Bowl   \n",
            "\n",
            "                                  choice_description item_price  \n",
            "0                                                NaN     $2.39   \n",
            "1                                       [Clementine]     $3.39   \n",
            "2                                            [Apple]     $3.39   \n",
            "3                                                NaN     $2.39   \n",
            "4  [Tomatillo-Red Chili Salsa (Hot), [Black Beans...    $16.98   \n"
          ]
        }
      ],
      "source": [
        "print(chipo.head())"
      ]
    },
    {
      "cell_type": "markdown",
      "metadata": {
        "pycharm": {
          "name": "#%% md\n"
        },
        "id": "E74h7mX393Ea"
      },
      "source": [
        "### Step 4. How many products cost more than $10.00?"
      ]
    },
    {
      "cell_type": "code",
      "execution_count": 4,
      "metadata": {
        "pycharm": {
          "name": "#%%\n"
        },
        "id": "D6aJRbpL93Eb",
        "outputId": "188a72f9-de27-400d-b988-6ff8745a57e7",
        "colab": {
          "base_uri": "https://localhost:8080/"
        }
      },
      "outputs": [
        {
          "output_type": "stream",
          "name": "stdout",
          "text": [
            "\n",
            "Step 4: Number of products costing more than $10.00: 1130\n"
          ]
        }
      ],
      "source": [
        "chipo['item_price'] = chipo['item_price'].str.replace('$', '').astype(float)\n",
        "num_expensive = chipo[chipo['item_price'] > 10].shape[0]\n",
        "print(f\"\\nStep 4: Number of products costing more than $10.00: {num_expensive}\")"
      ]
    },
    {
      "cell_type": "markdown",
      "metadata": {
        "pycharm": {
          "name": "#%% md\n"
        },
        "id": "GLiJaYtD93Eb"
      },
      "source": [
        "### Step 5. What is the price of each item?\n",
        "###### print a data frame with only two columns item_name and item_price"
      ]
    },
    {
      "cell_type": "code",
      "execution_count": 5,
      "metadata": {
        "pycharm": {
          "name": "#%%\n"
        },
        "id": "eC9avA-093Eb",
        "outputId": "f31f384b-f924-46be-f1f3-bb6bcaa1d065",
        "colab": {
          "base_uri": "https://localhost:8080/"
        }
      },
      "outputs": [
        {
          "output_type": "stream",
          "name": "stdout",
          "text": [
            "\n",
            "Step 5: Item name and price\n",
            "                               item_name  item_price\n",
            "0           Chips and Fresh Tomato Salsa        2.39\n",
            "1                                   Izze        3.39\n",
            "2                       Nantucket Nectar        3.39\n",
            "3  Chips and Tomatillo-Green Chili Salsa        2.39\n",
            "4                           Chicken Bowl       16.98\n"
          ]
        }
      ],
      "source": [
        "item_prices = chipo[['item_name', 'item_price']]\n",
        "print(\"\\nStep 5: Item name and price\")\n",
        "print(item_prices.head())"
      ]
    },
    {
      "cell_type": "markdown",
      "metadata": {
        "pycharm": {
          "name": "#%% md\n"
        },
        "id": "CefSRQnx93Eb"
      },
      "source": [
        "### Step 6. Sort by the name of the item"
      ]
    },
    {
      "cell_type": "code",
      "execution_count": 6,
      "metadata": {
        "pycharm": {
          "name": "#%%\n"
        },
        "id": "B9rvfCMl93Ec",
        "outputId": "69ff0045-4aa4-4c84-ae8f-2888f519fa47",
        "colab": {
          "base_uri": "https://localhost:8080/"
        }
      },
      "outputs": [
        {
          "output_type": "stream",
          "name": "stdout",
          "text": [
            "\n",
            "Step 6: Sorted items\n",
            "      order_id  quantity          item_name choice_description  item_price\n",
            "3389      1360         2  6 Pack Soft Drink        [Diet Coke]       12.98\n",
            "341        148         1  6 Pack Soft Drink        [Diet Coke]        6.49\n",
            "1849       749         1  6 Pack Soft Drink             [Coke]        6.49\n",
            "1860       754         1  6 Pack Soft Drink        [Diet Coke]        6.49\n",
            "2713      1076         1  6 Pack Soft Drink             [Coke]        6.49\n"
          ]
        }
      ],
      "source": [
        "sorted_items = chipo.sort_values(by='item_name')\n",
        "print(\"\\nStep 6: Sorted items\")\n",
        "print(sorted_items.head())"
      ]
    },
    {
      "cell_type": "markdown",
      "metadata": {
        "pycharm": {
          "name": "#%% md\n"
        },
        "id": "805ma85F93Ec"
      },
      "source": [
        "### Step 7. What was the quantity of the most expensive item ordered?"
      ]
    },
    {
      "cell_type": "code",
      "execution_count": 7,
      "metadata": {
        "pycharm": {
          "name": "#%%\n"
        },
        "id": "0CkQu3h_93Ec",
        "outputId": "939054c5-dda7-4d06-d595-1ba68f2164b0",
        "colab": {
          "base_uri": "https://localhost:8080/"
        }
      },
      "outputs": [
        {
          "output_type": "stream",
          "name": "stdout",
          "text": [
            "\n",
            "Step 7: Quantity of the most expensive item ordered: 15\n"
          ]
        }
      ],
      "source": [
        "most_expensive = chipo.loc[chipo['item_price'].idxmax()]\n",
        "print(f\"\\nStep 7: Quantity of the most expensive item ordered: {most_expensive['quantity']}\")"
      ]
    },
    {
      "cell_type": "markdown",
      "metadata": {
        "pycharm": {
          "name": "#%% md\n"
        },
        "id": "htzTndUo93Ec"
      },
      "source": [
        "### Step 8. How many times was a Veggie Salad Bowl ordered?"
      ]
    },
    {
      "cell_type": "code",
      "execution_count": 8,
      "metadata": {
        "pycharm": {
          "name": "#%%\n"
        },
        "id": "SaVqRlrv93Ec",
        "outputId": "1a768366-4e98-4d1e-b392-b3df33b57bb5",
        "colab": {
          "base_uri": "https://localhost:8080/"
        }
      },
      "outputs": [
        {
          "output_type": "stream",
          "name": "stdout",
          "text": [
            "\n",
            "Step 8: Number of times a Veggie Salad Bowl was ordered: 18\n"
          ]
        }
      ],
      "source": [
        "veggie_salad_count = chipo[chipo['item_name'] == 'Veggie Salad Bowl'].shape[0]\n",
        "print(f\"\\nStep 8: Number of times a Veggie Salad Bowl was ordered: {veggie_salad_count}\")"
      ]
    },
    {
      "cell_type": "markdown",
      "metadata": {
        "pycharm": {
          "name": "#%% md\n"
        },
        "id": "ain47wzg93Ec"
      },
      "source": [
        "### Step 9. How many times did someone order more than one Canned Soda?"
      ]
    },
    {
      "cell_type": "code",
      "execution_count": 9,
      "metadata": {
        "pycharm": {
          "name": "#%%\n"
        },
        "id": "FnbJ_mM293Ec",
        "outputId": "5331f688-664f-446c-ac24-d6f0bc68649f",
        "colab": {
          "base_uri": "https://localhost:8080/"
        }
      },
      "outputs": [
        {
          "output_type": "stream",
          "name": "stdout",
          "text": [
            "\n",
            "Step 9: Number of times more than one Canned Soda was ordered: 20\n"
          ]
        }
      ],
      "source": [
        "canned_soda_count = chipo[(chipo['item_name'] == 'Canned Soda') & (chipo['quantity'] > 1)].shape[0]\n",
        "print(f\"\\nStep 9: Number of times more than one Canned Soda was ordered: {canned_soda_count}\")"
      ]
    }
  ],
  "metadata": {
    "kernelspec": {
      "display_name": "Python 2",
      "language": "python",
      "name": "python2"
    },
    "language_info": {
      "codemirror_mode": {
        "name": "ipython",
        "version": 2
      },
      "file_extension": ".py",
      "mimetype": "text/x-python",
      "name": "python",
      "nbconvert_exporter": "python",
      "pygments_lexer": "ipython2",
      "version": "2.7.11"
    },
    "colab": {
      "provenance": []
    }
  },
  "nbformat": 4,
  "nbformat_minor": 0
}