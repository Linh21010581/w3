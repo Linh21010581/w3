{
  "cells": [
    {
      "cell_type": "markdown",
      "metadata": {
        "pycharm": {
          "name": "#%% md\n"
        },
        "id": "ZHOaUEaYC8hq"
      },
      "source": [
        "# Iris"
      ]
    },
    {
      "cell_type": "markdown",
      "metadata": {
        "pycharm": {
          "name": "#%% md\n"
        },
        "id": "G5wJDrMCC8hs"
      },
      "source": [
        "### Introduction:\n",
        "\n",
        "This exercise may seem a little bit strange, but keep doing it.\n",
        "\n",
        "### Step 1. Import the necessary libraries"
      ]
    },
    {
      "cell_type": "code",
      "execution_count": 1,
      "metadata": {
        "pycharm": {
          "name": "#%%\n"
        },
        "id": "bcmdlY31C8ht"
      },
      "outputs": [],
      "source": [
        "import pandas as pd\n",
        "import numpy as np"
      ]
    },
    {
      "cell_type": "markdown",
      "metadata": {
        "pycharm": {
          "name": "#%% md\n"
        },
        "id": "cED7_1ReC8ht"
      },
      "source": [
        "### Step 2. Import the dataset from this [address](https://archive.ics.uci.edu/ml/machine-learning-databases/iris/iris.data)."
      ]
    },
    {
      "cell_type": "code",
      "source": [
        "url = \"https://raw.githubusercontent.com/mwaskom/seaborn-data/master/iris.csv\"\n",
        "iris = pd.read_csv(url)"
      ],
      "metadata": {
        "id": "tzEthAfRDDLC"
      },
      "execution_count": 2,
      "outputs": []
    },
    {
      "cell_type": "markdown",
      "metadata": {
        "pycharm": {
          "name": "#%% md\n"
        },
        "id": "VUlF2X_5C8hu"
      },
      "source": [
        "### Step 3. Assign it to a variable called iris"
      ]
    },
    {
      "cell_type": "code",
      "execution_count": 3,
      "metadata": {
        "pycharm": {
          "name": "#%%\n"
        },
        "id": "7kXy3rceC8hu",
        "outputId": "64db82fa-b999-44ad-a539-12729aef2299",
        "colab": {
          "base_uri": "https://localhost:8080/"
        }
      },
      "outputs": [
        {
          "output_type": "stream",
          "name": "stdout",
          "text": [
            "   sepal_length  sepal_width  petal_length  petal_width species\n",
            "0           5.1          3.5           1.4          0.2  setosa\n",
            "1           4.9          3.0           1.4          0.2  setosa\n",
            "2           4.7          3.2           1.3          0.2  setosa\n",
            "3           4.6          3.1           1.5          0.2  setosa\n",
            "4           5.0          3.6           1.4          0.2  setosa\n"
          ]
        }
      ],
      "source": [
        "print(iris.head())"
      ]
    },
    {
      "cell_type": "markdown",
      "metadata": {
        "pycharm": {
          "name": "#%% md\n"
        },
        "id": "Psuy7RTBC8hu"
      },
      "source": [
        "### Step 4. Create columns for the dataset"
      ]
    },
    {
      "cell_type": "code",
      "execution_count": 4,
      "metadata": {
        "pycharm": {
          "name": "#%%\n"
        },
        "id": "FPA7yEz0C8hu",
        "outputId": "8c758699-7d30-4e97-f996-c286e189d8d5",
        "colab": {
          "base_uri": "https://localhost:8080/"
        }
      },
      "outputs": [
        {
          "output_type": "stream",
          "name": "stdout",
          "text": [
            "Updated column names: Index(['sepal_length', 'sepal_width', 'petal_length', 'petal_width', 'class'], dtype='object')\n"
          ]
        }
      ],
      "source": [
        "iris.columns = ['sepal_length', 'sepal_width', 'petal_length', 'petal_width', 'class']\n",
        "print(\"Updated column names:\", iris.columns)"
      ]
    },
    {
      "cell_type": "markdown",
      "metadata": {
        "pycharm": {
          "name": "#%% md\n"
        },
        "id": "nCzrlNXKC8hv"
      },
      "source": [
        "### Step 5.  Is there any missing value in the dataframe?"
      ]
    },
    {
      "cell_type": "code",
      "execution_count": 5,
      "metadata": {
        "pycharm": {
          "name": "#%%\n"
        },
        "id": "haiWWC0IC8hw",
        "outputId": "46f19912-b3f2-441d-f044-c9d93a876cc0",
        "colab": {
          "base_uri": "https://localhost:8080/"
        }
      },
      "outputs": [
        {
          "output_type": "stream",
          "name": "stdout",
          "text": [
            "Missing values before modification:\n",
            " sepal_length    0\n",
            "sepal_width     0\n",
            "petal_length    0\n",
            "petal_width     0\n",
            "class           0\n",
            "dtype: int64\n"
          ]
        }
      ],
      "source": [
        "print(\"Missing values before modification:\\n\", iris.isnull().sum())\n"
      ]
    },
    {
      "cell_type": "markdown",
      "metadata": {
        "pycharm": {
          "name": "#%% md\n"
        },
        "id": "RFFInBVXC8hw"
      },
      "source": [
        "### Step 6.  Lets set the values of the rows 10 to 29 of the column 'petal_length' to NaN"
      ]
    },
    {
      "cell_type": "code",
      "execution_count": 6,
      "metadata": {
        "pycharm": {
          "name": "#%%\n"
        },
        "id": "wtc2LELDC8hw",
        "outputId": "721ec1f7-d4dc-460d-a3cf-a94c20248575",
        "colab": {
          "base_uri": "https://localhost:8080/"
        }
      },
      "outputs": [
        {
          "output_type": "stream",
          "name": "stdout",
          "text": [
            "Missing values after setting NaN:\n",
            " sepal_length     0\n",
            "sepal_width      0\n",
            "petal_length    20\n",
            "petal_width      0\n",
            "class            0\n",
            "dtype: int64\n"
          ]
        }
      ],
      "source": [
        "iris.loc[10:29, 'petal_length'] = np.nan\n",
        "print(\"Missing values after setting NaN:\\n\", iris.isnull().sum())"
      ]
    },
    {
      "cell_type": "markdown",
      "metadata": {
        "pycharm": {
          "name": "#%% md\n"
        },
        "id": "QehplU_sC8hw"
      },
      "source": [
        "### Step 7. Good, now lets substitute the NaN values to 1.0"
      ]
    },
    {
      "cell_type": "code",
      "execution_count": 7,
      "metadata": {
        "pycharm": {
          "name": "#%%\n"
        },
        "id": "JEIH6t-CC8hx",
        "outputId": "d4918b81-baf9-4ae5-aed3-2286d9b87bcd",
        "colab": {
          "base_uri": "https://localhost:8080/"
        }
      },
      "outputs": [
        {
          "output_type": "stream",
          "name": "stdout",
          "text": [
            "Missing values after filling NaN:\n",
            " sepal_length    0\n",
            "sepal_width     0\n",
            "petal_length    0\n",
            "petal_width     0\n",
            "class           0\n",
            "dtype: int64\n"
          ]
        },
        {
          "output_type": "stream",
          "name": "stderr",
          "text": [
            "<ipython-input-7-ff7008021f51>:1: FutureWarning: A value is trying to be set on a copy of a DataFrame or Series through chained assignment using an inplace method.\n",
            "The behavior will change in pandas 3.0. This inplace method will never work because the intermediate object on which we are setting values always behaves as a copy.\n",
            "\n",
            "For example, when doing 'df[col].method(value, inplace=True)', try using 'df.method({col: value}, inplace=True)' or df[col] = df[col].method(value) instead, to perform the operation inplace on the original object.\n",
            "\n",
            "\n",
            "  iris['petal_length'].fillna(1.0, inplace=True)\n"
          ]
        }
      ],
      "source": [
        "iris['petal_length'].fillna(1.0, inplace=True)\n",
        "print(\"Missing values after filling NaN:\\n\", iris.isnull().sum())"
      ]
    },
    {
      "cell_type": "markdown",
      "metadata": {
        "pycharm": {
          "name": "#%% md\n"
        },
        "id": "VV-6ek34C8hx"
      },
      "source": [
        "### Step 8. Now let's delete the column class"
      ]
    },
    {
      "cell_type": "code",
      "execution_count": 8,
      "metadata": {
        "pycharm": {
          "name": "#%%\n"
        },
        "id": "1isnSEbXC8hx",
        "outputId": "645cc111-3ca7-42c2-9a98-fa7d5de750bb",
        "colab": {
          "base_uri": "https://localhost:8080/"
        }
      },
      "outputs": [
        {
          "output_type": "stream",
          "name": "stdout",
          "text": [
            "Dataset after dropping 'class' column:\n",
            "    sepal_length  sepal_width  petal_length  petal_width\n",
            "0           5.1          3.5           1.4          0.2\n",
            "1           4.9          3.0           1.4          0.2\n",
            "2           4.7          3.2           1.3          0.2\n",
            "3           4.6          3.1           1.5          0.2\n",
            "4           5.0          3.6           1.4          0.2\n"
          ]
        }
      ],
      "source": [
        "iris.drop(columns=['class'], inplace=True)\n",
        "print(\"Dataset after dropping 'class' column:\\n\", iris.head())"
      ]
    },
    {
      "cell_type": "markdown",
      "metadata": {
        "pycharm": {
          "name": "#%% md\n"
        },
        "id": "AVkxURKbC8hx"
      },
      "source": [
        "### Step 9.  Set the first 3 rows as NaN"
      ]
    },
    {
      "cell_type": "code",
      "execution_count": 9,
      "metadata": {
        "pycharm": {
          "name": "#%%\n"
        },
        "id": "HKpSoIyuC8hx",
        "outputId": "3ff95841-d16a-46c5-b8ce-e2303582c045",
        "colab": {
          "base_uri": "https://localhost:8080/"
        }
      },
      "outputs": [
        {
          "output_type": "stream",
          "name": "stdout",
          "text": [
            "Dataset after setting first 3 rows to NaN:\n",
            "    sepal_length  sepal_width  petal_length  petal_width\n",
            "0           NaN          NaN           NaN          NaN\n",
            "1           NaN          NaN           NaN          NaN\n",
            "2           NaN          NaN           NaN          NaN\n",
            "3           4.6          3.1           1.5          0.2\n",
            "4           5.0          3.6           1.4          0.2\n"
          ]
        }
      ],
      "source": [
        "iris.iloc[:3] = np.nan\n",
        "print(\"Dataset after setting first 3 rows to NaN:\\n\", iris.head())"
      ]
    },
    {
      "cell_type": "markdown",
      "metadata": {
        "pycharm": {
          "name": "#%% md\n"
        },
        "id": "10tVDYKRC8hx"
      },
      "source": [
        "### Step 10.  Delete the rows that have NaN"
      ]
    },
    {
      "cell_type": "code",
      "execution_count": 10,
      "metadata": {
        "pycharm": {
          "name": "#%%\n"
        },
        "id": "vp32ISZSC8hy",
        "outputId": "71b03f84-6746-468f-c7f3-73988b637f1c",
        "colab": {
          "base_uri": "https://localhost:8080/"
        }
      },
      "outputs": [
        {
          "output_type": "stream",
          "name": "stdout",
          "text": [
            "Dataset after dropping NaN rows:\n",
            "    sepal_length  sepal_width  petal_length  petal_width\n",
            "3           4.6          3.1           1.5          0.2\n",
            "4           5.0          3.6           1.4          0.2\n",
            "5           5.4          3.9           1.7          0.4\n",
            "6           4.6          3.4           1.4          0.3\n",
            "7           5.0          3.4           1.5          0.2\n"
          ]
        }
      ],
      "source": [
        "iris.dropna(inplace=True)\n",
        "print(\"Dataset after dropping NaN rows:\\n\", iris.head())"
      ]
    },
    {
      "cell_type": "markdown",
      "metadata": {
        "pycharm": {
          "name": "#%% md\n"
        },
        "id": "qXWcHyFQC8hy"
      },
      "source": [
        "### Step 11. Reset the index so it begins with 0 again"
      ]
    },
    {
      "cell_type": "code",
      "execution_count": 11,
      "metadata": {
        "pycharm": {
          "name": "#%%\n"
        },
        "id": "SJbDU3TDC8hy",
        "outputId": "bc1bd877-868e-4240-d685-168de989a641",
        "colab": {
          "base_uri": "https://localhost:8080/"
        }
      },
      "outputs": [
        {
          "output_type": "stream",
          "name": "stdout",
          "text": [
            "Dataset after resetting index:\n",
            "    sepal_length  sepal_width  petal_length  petal_width\n",
            "0           4.6          3.1           1.5          0.2\n",
            "1           5.0          3.6           1.4          0.2\n",
            "2           5.4          3.9           1.7          0.4\n",
            "3           4.6          3.4           1.4          0.3\n",
            "4           5.0          3.4           1.5          0.2\n"
          ]
        }
      ],
      "source": [
        "iris.reset_index(drop=True, inplace=True)\n",
        "print(\"Dataset after resetting index:\\n\", iris.head())"
      ]
    },
    {
      "cell_type": "markdown",
      "metadata": {
        "pycharm": {
          "name": "#%% md\n"
        },
        "id": "BNBpVbLbC8hy"
      },
      "source": [
        "### BONUS: Create your own question and answer it."
      ]
    },
    {
      "cell_type": "code",
      "execution_count": null,
      "metadata": {
        "collapsed": true,
        "pycharm": {
          "name": "#%%\n"
        },
        "id": "L_T053uMC8hy"
      },
      "outputs": [],
      "source": []
    }
  ],
  "metadata": {
    "kernelspec": {
      "display_name": "Python 2",
      "language": "python",
      "name": "python2"
    },
    "language_info": {
      "codemirror_mode": {
        "name": "ipython",
        "version": 2
      },
      "file_extension": ".py",
      "mimetype": "text/x-python",
      "name": "python",
      "nbconvert_exporter": "python",
      "pygments_lexer": "ipython2",
      "version": "2.7.11"
    },
    "colab": {
      "provenance": []
    }
  },
  "nbformat": 4,
  "nbformat_minor": 0
}