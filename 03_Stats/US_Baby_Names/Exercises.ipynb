{
  "cells": [
    {
      "cell_type": "markdown",
      "metadata": {
        "pycharm": {
          "name": "#%% md\n"
        },
        "id": "Y6FPCXpd-tFh"
      },
      "source": [
        "# US - Baby Names"
      ]
    },
    {
      "cell_type": "markdown",
      "metadata": {
        "pycharm": {
          "name": "#%% md\n"
        },
        "id": "ZPNNWULT-tFi"
      },
      "source": [
        "### Introduction:\n",
        "\n",
        "We are going to use a subset of [US Baby Names](https://www.kaggle.com/kaggle/us-baby-names) from Kaggle.  \n",
        "In the file it will be names from 2004 until 2014\n",
        "\n",
        "\n",
        "### Step 1. Import the necessary libraries"
      ]
    },
    {
      "cell_type": "code",
      "execution_count": 1,
      "metadata": {
        "pycharm": {
          "name": "#%%\n"
        },
        "id": "bZzGV6jq-tFi"
      },
      "outputs": [],
      "source": [
        "import pandas as pd\n"
      ]
    },
    {
      "cell_type": "markdown",
      "metadata": {
        "pycharm": {
          "name": "#%% md\n"
        },
        "id": "lHxj0s-y-tFi"
      },
      "source": [
        "### Step 2. Import the dataset from this [address](https://raw.githubusercontent.com/thieu1995/csv-files/main/data/pandas/US_Baby_Names_right.csv)."
      ]
    },
    {
      "cell_type": "code",
      "source": [
        "url = \"https://raw.githubusercontent.com/hadley/data-baby-names/master/baby-names.csv\"\n",
        "baby_names = pd.read_csv(url)"
      ],
      "metadata": {
        "id": "xqJtI2kG-0B_"
      },
      "execution_count": 2,
      "outputs": []
    },
    {
      "cell_type": "markdown",
      "metadata": {
        "pycharm": {
          "name": "#%% md\n"
        },
        "id": "TeVL1DmM-tFj"
      },
      "source": [
        "### Step 3. Assign it to a variable called baby_names."
      ]
    },
    {
      "cell_type": "code",
      "execution_count": 4,
      "metadata": {
        "pycharm": {
          "name": "#%%\n"
        },
        "id": "S_F-c7xH-tFj"
      },
      "outputs": [],
      "source": [
        "baby_names = pd.read_csv(url)\n"
      ]
    },
    {
      "cell_type": "markdown",
      "metadata": {
        "pycharm": {
          "name": "#%% md\n"
        },
        "id": "_UQqQz_I-tFj"
      },
      "source": [
        "### Step 4. See the first 10 entries"
      ]
    },
    {
      "cell_type": "code",
      "execution_count": 5,
      "metadata": {
        "pycharm": {
          "name": "#%%\n"
        },
        "id": "NGc4mb8u-tFj",
        "outputId": "c1adc825-e6b1-4d27-cc75-f24f36dded8b",
        "colab": {
          "base_uri": "https://localhost:8080/"
        }
      },
      "outputs": [
        {
          "output_type": "stream",
          "name": "stdout",
          "text": [
            "   year     name   percent  sex\n",
            "0  1880     John  0.081541  boy\n",
            "1  1880  William  0.080511  boy\n",
            "2  1880    James  0.050057  boy\n",
            "3  1880  Charles  0.045167  boy\n",
            "4  1880   George  0.043292  boy\n",
            "5  1880    Frank  0.027380  boy\n",
            "6  1880   Joseph  0.022229  boy\n",
            "7  1880   Thomas  0.021401  boy\n",
            "8  1880    Henry  0.020641  boy\n",
            "9  1880   Robert  0.020404  boy\n"
          ]
        }
      ],
      "source": [
        "print(baby_names.head(10))\n"
      ]
    },
    {
      "cell_type": "markdown",
      "metadata": {
        "pycharm": {
          "name": "#%% md\n"
        },
        "id": "chyzMvv1-tFj"
      },
      "source": [
        "### Step 5. Delete the column 'Unnamed: 0' and 'Id'"
      ]
    },
    {
      "cell_type": "code",
      "execution_count": 6,
      "metadata": {
        "pycharm": {
          "name": "#%%\n"
        },
        "id": "eL5y_kIb-tFj"
      },
      "outputs": [],
      "source": [
        "baby_names = baby_names.drop(columns=['Unnamed: 0', 'Id'], errors='ignore')\n"
      ]
    },
    {
      "cell_type": "markdown",
      "metadata": {
        "pycharm": {
          "name": "#%% md\n"
        },
        "id": "r6EVcPuW-tFj"
      },
      "source": [
        "### Step 6. Is there more male or female names in the dataset?"
      ]
    },
    {
      "cell_type": "code",
      "execution_count": 7,
      "metadata": {
        "pycharm": {
          "name": "#%%\n"
        },
        "id": "8jjX7Z0_-tFj",
        "outputId": "6146b72f-b9b0-472b-ffc0-32991ffc4a8d",
        "colab": {
          "base_uri": "https://localhost:8080/"
        }
      },
      "outputs": [
        {
          "output_type": "stream",
          "name": "stdout",
          "text": [
            "Số lượng tên theo giới tính:\n",
            " sex\n",
            "boy     129000\n",
            "girl    129000\n",
            "Name: count, dtype: int64\n"
          ]
        }
      ],
      "source": [
        "gender_counts = baby_names['sex'].value_counts()\n",
        "print(\"Số lượng tên theo giới tính:\\n\", gender_counts)"
      ]
    },
    {
      "cell_type": "markdown",
      "metadata": {
        "pycharm": {
          "name": "#%% md\n"
        },
        "id": "5CtB363z-tFj"
      },
      "source": [
        "### Step 7. Group the dataset by name and assign to names"
      ]
    },
    {
      "cell_type": "code",
      "execution_count": 8,
      "metadata": {
        "pycharm": {
          "name": "#%%\n"
        },
        "id": "e2XYrFKD-tFj"
      },
      "outputs": [],
      "source": [
        "names = baby_names.groupby(\"name\").sum()"
      ]
    },
    {
      "cell_type": "markdown",
      "metadata": {
        "pycharm": {
          "name": "#%% md\n"
        },
        "id": "mjeVycbC-tFj"
      },
      "source": [
        "### Step 8. How many different names exist in the dataset?"
      ]
    },
    {
      "cell_type": "code",
      "execution_count": 9,
      "metadata": {
        "pycharm": {
          "name": "#%%\n"
        },
        "id": "nzdwfX-Z-tFk",
        "outputId": "4ded9b13-e4b7-44b5-d020-645aad21b54a",
        "colab": {
          "base_uri": "https://localhost:8080/"
        }
      },
      "outputs": [
        {
          "output_type": "stream",
          "name": "stdout",
          "text": [
            "Số lượng tên khác nhau: 6782\n"
          ]
        }
      ],
      "source": [
        "unique_names_count = names.shape[0]\n",
        "print(\"Số lượng tên khác nhau:\", unique_names_count)"
      ]
    },
    {
      "cell_type": "markdown",
      "metadata": {
        "pycharm": {
          "name": "#%% md\n"
        },
        "id": "2FG4E6CF-tFk"
      },
      "source": [
        "### Step 9. What is the name with most occurrences?"
      ]
    },
    {
      "cell_type": "code",
      "execution_count": 15,
      "metadata": {
        "pycharm": {
          "name": "#%%\n"
        },
        "id": "xJPChueM-tFk",
        "outputId": "40208bd8-90f5-44ef-b6bf-eba333faea4e",
        "colab": {
          "base_uri": "https://localhost:8080/"
        }
      },
      "outputs": [
        {
          "output_type": "stream",
          "name": "stdout",
          "text": [
            "Tên phổ biến nhất: John với 5.32036 lần xuất hiện\n"
          ]
        }
      ],
      "source": [
        "most_common_name = names['percent'].idxmax()\n",
        "most_common_count = names['percent'].max()\n",
        "print(f\"Tên phổ biến nhất: {most_common_name} với {most_common_count} lần xuất hiện\")\n"
      ]
    },
    {
      "cell_type": "markdown",
      "metadata": {
        "pycharm": {
          "name": "#%% md\n"
        },
        "id": "79UP1kKa-tFk"
      },
      "source": [
        "### Step 10. How many different names have the least occurrences?"
      ]
    },
    {
      "cell_type": "code",
      "execution_count": 16,
      "metadata": {
        "pycharm": {
          "name": "#%%\n"
        },
        "id": "6m-RB8U9-tFk",
        "outputId": "3af76301-d615-4962-e23d-8d16f9e7ce79",
        "colab": {
          "base_uri": "https://localhost:8080/"
        }
      },
      "outputs": [
        {
          "output_type": "stream",
          "name": "stdout",
          "text": [
            "Số lượng tên có 1 lần xuất hiện: 0\n"
          ]
        }
      ],
      "source": [
        "least_occurrence = names['percent'].value_counts().iloc[-1]\n",
        "least_names_count = (names['percent'] == least_occurrence).sum()\n",
        "print(f\"Số lượng tên có {least_occurrence} lần xuất hiện: {least_names_count}\")\n"
      ]
    },
    {
      "cell_type": "markdown",
      "metadata": {
        "pycharm": {
          "name": "#%% md\n"
        },
        "id": "BFoO-dZ--tFk"
      },
      "source": [
        "### Step 11. What is the median name occurrence?"
      ]
    },
    {
      "cell_type": "code",
      "execution_count": 17,
      "metadata": {
        "pycharm": {
          "name": "#%%\n"
        },
        "id": "wCoqbREU-tFk",
        "outputId": "db9f64c5-9987-455d-9126-78e1ac3eb3f7",
        "colab": {
          "base_uri": "https://localhost:8080/"
        }
      },
      "outputs": [
        {
          "output_type": "stream",
          "name": "stdout",
          "text": [
            "Trung vị số lần xuất hiện: 0.0019345\n"
          ]
        }
      ],
      "source": [
        "median_occurrence = names['percent'].median()\n",
        "print(\"Trung vị số lần xuất hiện:\", median_occurrence)"
      ]
    },
    {
      "cell_type": "markdown",
      "metadata": {
        "pycharm": {
          "name": "#%% md\n"
        },
        "id": "Apq1xB3d-tFk"
      },
      "source": [
        "### Step 12. What is the standard deviation of names?"
      ]
    },
    {
      "cell_type": "code",
      "execution_count": 18,
      "metadata": {
        "pycharm": {
          "name": "#%%\n"
        },
        "id": "FTQ9IkQL-tFk",
        "outputId": "2b2fa86a-d032-4da9-d41f-8aee24c16eef",
        "colab": {
          "base_uri": "https://localhost:8080/"
        }
      },
      "outputs": [
        {
          "output_type": "stream",
          "name": "stdout",
          "text": [
            "Độ lệch chuẩn: 0.17146592097448918\n"
          ]
        }
      ],
      "source": [
        "std_dev = names['percent'].std()\n",
        "print(\"Độ lệch chuẩn:\", std_dev)"
      ]
    },
    {
      "cell_type": "markdown",
      "metadata": {
        "pycharm": {
          "name": "#%% md\n"
        },
        "id": "O9PBlX60-tFk"
      },
      "source": [
        "### Step 13. Get a summary with the mean, min, max, std and quartiles."
      ]
    },
    {
      "cell_type": "code",
      "execution_count": 19,
      "metadata": {
        "pycharm": {
          "name": "#%%\n"
        },
        "id": "tSqFPjci-tFk",
        "outputId": "c62230d6-9074-45d0-a1fd-e2f7283a0b92",
        "colab": {
          "base_uri": "https://localhost:8080/"
        }
      },
      "outputs": [
        {
          "output_type": "stream",
          "name": "stdout",
          "text": [
            "\n",
            "Tóm tắt dữ liệu:\n",
            " count    6782.000000\n",
            "mean        0.034027\n",
            "std         0.171466\n",
            "min         0.000027\n",
            "25%         0.000342\n",
            "50%         0.001935\n",
            "75%         0.011080\n",
            "max         5.320360\n",
            "Name: percent, dtype: float64\n"
          ]
        }
      ],
      "source": [
        "summary = names['percent'].describe()\n",
        "print(\"\\nTóm tắt dữ liệu:\\n\", summary)"
      ]
    }
  ],
  "metadata": {
    "anaconda-cloud": {},
    "kernelspec": {
      "display_name": "Python [default]",
      "language": "python",
      "name": "python2"
    },
    "language_info": {
      "codemirror_mode": {
        "name": "ipython",
        "version": 2
      },
      "file_extension": ".py",
      "mimetype": "text/x-python",
      "name": "python",
      "nbconvert_exporter": "python",
      "pygments_lexer": "ipython2",
      "version": "2.7.11"
    },
    "colab": {
      "provenance": []
    }
  },
  "nbformat": 4,
  "nbformat_minor": 0
}